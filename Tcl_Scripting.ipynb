{
 "cells": [
  {
   "cell_type": "markdown",
   "id": "7316eb72",
   "metadata": {},
   "source": [
    "Importing Libraries needed to run script"
   ]
  },
  {
   "cell_type": "code",
   "execution_count": 1,
   "id": "fc89e174-4bd3-4334-9423-b2e9011005e5",
   "metadata": {},
   "outputs": [],
   "source": [
    "import os\n",
    "import numpy as np\n",
    "import pandas as pd1\n",
    "import shutil\n",
    "import csv"
   ]
  },
  {
   "cell_type": "code",
   "execution_count": 2,
   "id": "cdcfb600",
   "metadata": {},
   "outputs": [
    {
     "name": "stdout",
     "output_type": "stream",
     "text": [
      "['adder_1bit.v', 'Barrel_shifter.v', 'binary_multiplier.v', 'FSM_mealy.v', 'FSM_moore.v', 'logic_gate.v', 'ripple_adder.v', 'shifter.v', 'universal_register.v']\n"
     ]
    }
   ],
   "source": [
    "models = os.listdir(\"Modules\") #modules list as array \n",
    "print(models)"
   ]
  },
  {
   "cell_type": "code",
   "execution_count": 3,
   "id": "b17337b3",
   "metadata": {},
   "outputs": [
    {
     "data": {
      "text/plain": [
       "0"
      ]
     },
     "execution_count": 3,
     "metadata": {},
     "output_type": "execute_result"
    }
   ],
   "source": [
    "os.system(\"vivado -mode batch -source tcl_create.tcl\")   #creating new project"
   ]
  },
  {
   "cell_type": "code",
   "execution_count": 4,
   "metadata": {},
   "outputs": [],
   "source": [
    "for mod in models:\n",
    "    os.system(\"vivado -mode batch -source  tcl_add.tcl -tclargs {}\".format(mod))"
   ]
  },
  {
   "cell_type": "code",
   "execution_count": 5,
   "id": "f8165181",
   "metadata": {},
   "outputs": [],
   "source": [
    "os.mkdir(\"results\")"
   ]
  },
  {
   "cell_type": "code",
   "execution_count": 6,
   "id": "eb55704e",
   "metadata": {},
   "outputs": [
    {
     "name": "stdout",
     "output_type": "stream",
     "text": [
      "adder_1bit.v reported\n",
      "Barrel_shifter.v reported\n",
      "binary_multiplier.v reported\n",
      "FSM_mealy.v reported\n",
      "FSM_moore.v reported\n",
      "logic_gate.v reported\n",
      "ripple_adder.v reported\n",
      "shifter.v reported\n",
      "universal_register.v reported\n"
     ]
    }
   ],
   "source": [
    "for filename in models:\n",
    "    os.mkdir(\"results/\"+filename[:-2])\n",
    "    os.system(\"vivado -mode batch -source  tcl_run.tcl -tclargs {}\".format(filename))\n",
    "    print(\"{} reported\".format(filename)) "
   ]
  },
  {
   "cell_type": "markdown",
   "id": "0c9fcf5e",
   "metadata": {},
   "source": [
    "Generating Result.csv file \n",
    "The approach is to search for certain text in the generated reports and extract out the numerical values needed."
   ]
  },
  {
   "cell_type": "code",
   "execution_count": 7,
   "id": "2c2af0cf",
   "metadata": {},
   "outputs": [
    {
     "name": "stdout",
     "output_type": "stream",
     "text": [
      "['adder_1bit', 'Barrel_shifter', 'binary_multiplier', 'FSM_mealy', 'FSM_moore', 'logic_gate', 'ripple_adder', 'shifter', 'universal_register']\n"
     ]
    }
   ],
   "source": [
    "data_files = os.listdir(\"results\")  \n",
    "print(data_files)"
   ]
  },
  {
   "cell_type": "code",
   "execution_count": 8,
   "id": "2c74c6c1",
   "metadata": {},
   "outputs": [],
   "source": [
    "file_types = ['power.txt','timing.txt','utilization.txt']\n",
    "\n",
    "req_data = ['Total On-Chip Power','Data Path Delay','Slice LUTs']\n",
    "\n",
    "Power = []\n",
    "Delay = []\n",
    "LUTs = []"
   ]
  },
  {
   "cell_type": "code",
   "execution_count": 9,
   "id": "d9cb54c8",
   "metadata": {},
   "outputs": [
    {
     "name": "stdout",
     "output_type": "stream",
     "text": [
      "1.034\n",
      "5.896\n",
      "1.0\n",
      "_____\n",
      "1.389\n",
      "6.233\n",
      "4.0\n",
      "_____\n",
      "13.717\n",
      "11.621\n",
      "68.0\n",
      "_____\n",
      "0.338\n",
      "4.356\n",
      "5.0\n",
      "_____\n",
      "0.394\n",
      "4.204\n",
      "5.0\n",
      "_____\n",
      "1.389\n",
      "6.233\n",
      "4.0\n",
      "_____\n",
      "1.389\n",
      "6.233\n",
      "4.0\n",
      "_____\n",
      "1.408\n",
      "4.419\n",
      "3.0\n",
      "_____\n",
      "1.898\n",
      "4.304\n",
      "9.0\n",
      "_____\n"
     ]
    }
   ],
   "source": [
    "\n",
    "for data in data_files :\n",
    "    for file in file_types:\n",
    "        with open(\"results/{}/{}\".format(data,file),'r') as File:\n",
    "             content = File.read()\n",
    "\n",
    "        words = content.split('\\n')   \n",
    "\n",
    "        for req_word in words:\n",
    "            if file_types[0] in file:\n",
    "                if req_data[0] in req_word:\n",
    "                    pwr = float(req_word.split()[6])\n",
    "                    print(pwr)\n",
    "                    Power.append(pwr)\n",
    "  \n",
    "\n",
    "        for req_word in words:\n",
    "            if file_types[1] in file:\n",
    "                if req_data[1] in req_word:\n",
    "                    delay = float(req_word.split()[3][:-2])\n",
    "                    print(delay)\n",
    "                    Delay.append(delay)\n",
    "\n",
    "\n",
    "        for req_word in words:\n",
    "            if file_types[2] in file:\n",
    "                if req_data[2] in req_word:\n",
    "                    luts = float(req_word.split()[4])\n",
    "                    print(luts) \n",
    "                    LUTs.append(luts) \n",
    "                    print(\"_____\")          \n",
    "\n",
    "             \n",
    "\n",
    "\n"
   ]
  },
  {
   "cell_type": "code",
   "execution_count": 10,
   "id": "980b29cb",
   "metadata": {},
   "outputs": [
    {
     "name": "stdout",
     "output_type": "stream",
     "text": [
      "       adder_1bit  Barrel_shifter  binary_multiplier  FSM_mealy  FSM_moore  \\\n",
      "Power       1.034           1.389             13.717      0.338      0.394   \n",
      "Delay       5.896           6.233             11.621      4.356      4.204   \n",
      "LUTs        1.000           4.000             68.000      5.000      5.000   \n",
      "\n",
      "       logic_gate  ripple_adder  shifter  universal_register  \n",
      "Power       1.389         1.389    1.408               1.898  \n",
      "Delay       6.233         6.233    4.419               4.304  \n",
      "LUTs        4.000         4.000    3.000               9.000  \n"
     ]
    }
   ],
   "source": [
    "Final_results = [Power,Delay,LUTs]\n",
    "row_name = ['Power','Delay','LUTs']\n",
    "\n",
    "df = pd1.DataFrame(Final_results, index = row_name)\n",
    "df.columns = data_files\n",
    "\n",
    "df.to_csv('Final_results.csv', index = row_name)\n",
    "print(df)"
   ]
  }
 ],
 "metadata": {
  "kernelspec": {
   "display_name": "Python 3",
   "language": "python",
   "name": "python3"
  },
  "language_info": {
   "codemirror_mode": {
    "name": "ipython",
    "version": 3
   },
   "file_extension": ".py",
   "mimetype": "text/x-python",
   "name": "python",
   "nbconvert_exporter": "python",
   "pygments_lexer": "ipython3",
   "version": "3.11.9"
  }
 },
 "nbformat": 4,
 "nbformat_minor": 5
}
